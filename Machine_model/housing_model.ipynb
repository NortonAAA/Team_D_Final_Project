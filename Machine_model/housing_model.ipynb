{
 "cells": [
  {
   "cell_type": "markdown",
   "metadata": {},
   "source": [
    "# Preliminary Model Build for Mockup"
   ]
  },
  {
   "cell_type": "code",
   "execution_count": 1,
   "metadata": {},
   "outputs": [],
   "source": [
    "# Import Warnings and Dependencies\n",
    "import warnings\n",
    "warnings.filterwarnings('ignore')\n",
    "# Import Dependencies\n",
    "import pandas as pd\n",
    "import numpy as np\n",
    "import matplotlib\n",
    "from pathlib import Path\n",
    "from collections import Counter\n",
    "\n"
   ]
  },
  {
   "cell_type": "code",
   "execution_count": 2,
   "metadata": {},
   "outputs": [],
   "source": [
    "# import sklearn functions as needed 2022.11.1 Load then remove\n",
    "from sklearn.preprocessing import LabelEncoder\n",
    "from sklearn.linear_model import LinearRegression\n",
    "from sklearn.linear_model import LogisticRegression"
   ]
  },
  {
   "cell_type": "markdown",
   "metadata": {},
   "source": [
    "### Data to Load"
   ]
  },
  {
   "cell_type": "code",
   "execution_count": 3,
   "metadata": {},
   "outputs": [
    {
     "data": {
      "text/html": [
       "<div>\n",
       "<style scoped>\n",
       "    .dataframe tbody tr th:only-of-type {\n",
       "        vertical-align: middle;\n",
       "    }\n",
       "\n",
       "    .dataframe tbody tr th {\n",
       "        vertical-align: top;\n",
       "    }\n",
       "\n",
       "    .dataframe thead th {\n",
       "        text-align: right;\n",
       "    }\n",
       "</style>\n",
       "<table border=\"1\" class=\"dataframe\">\n",
       "  <thead>\n",
       "    <tr style=\"text-align: right;\">\n",
       "      <th></th>\n",
       "      <th>Region ID</th>\n",
       "      <th>Year</th>\n",
       "      <th>Month</th>\n",
       "      <th>Civilian Labor Force</th>\n",
       "      <th>Employment</th>\n",
       "      <th>Unemployment</th>\n",
       "      <th>Unemployment Rate</th>\n",
       "    </tr>\n",
       "  </thead>\n",
       "  <tbody>\n",
       "    <tr>\n",
       "      <th>0</th>\n",
       "      <td>394355</td>\n",
       "      <td>2018</td>\n",
       "      <td>3</td>\n",
       "      <td>1179232</td>\n",
       "      <td>1143501</td>\n",
       "      <td>35731</td>\n",
       "      <td>3.0</td>\n",
       "    </tr>\n",
       "    <tr>\n",
       "      <th>1</th>\n",
       "      <td>394355</td>\n",
       "      <td>2018</td>\n",
       "      <td>4</td>\n",
       "      <td>1183111</td>\n",
       "      <td>1147281</td>\n",
       "      <td>35830</td>\n",
       "      <td>3.0</td>\n",
       "    </tr>\n",
       "    <tr>\n",
       "      <th>2</th>\n",
       "      <td>394355</td>\n",
       "      <td>2018</td>\n",
       "      <td>5</td>\n",
       "      <td>1185971</td>\n",
       "      <td>1150176</td>\n",
       "      <td>35795</td>\n",
       "      <td>3.0</td>\n",
       "    </tr>\n",
       "    <tr>\n",
       "      <th>3</th>\n",
       "      <td>394355</td>\n",
       "      <td>2018</td>\n",
       "      <td>6</td>\n",
       "      <td>1188164</td>\n",
       "      <td>1152543</td>\n",
       "      <td>35621</td>\n",
       "      <td>3.0</td>\n",
       "    </tr>\n",
       "    <tr>\n",
       "      <th>4</th>\n",
       "      <td>394355</td>\n",
       "      <td>2018</td>\n",
       "      <td>7</td>\n",
       "      <td>1190096</td>\n",
       "      <td>1154811</td>\n",
       "      <td>35285</td>\n",
       "      <td>3.0</td>\n",
       "    </tr>\n",
       "    <tr>\n",
       "      <th>5</th>\n",
       "      <td>394355</td>\n",
       "      <td>2018</td>\n",
       "      <td>8</td>\n",
       "      <td>1192227</td>\n",
       "      <td>1157195</td>\n",
       "      <td>35032</td>\n",
       "      <td>2.9</td>\n",
       "    </tr>\n",
       "    <tr>\n",
       "      <th>6</th>\n",
       "      <td>394355</td>\n",
       "      <td>2018</td>\n",
       "      <td>9</td>\n",
       "      <td>1194833</td>\n",
       "      <td>1159797</td>\n",
       "      <td>35036</td>\n",
       "      <td>2.9</td>\n",
       "    </tr>\n",
       "    <tr>\n",
       "      <th>7</th>\n",
       "      <td>394355</td>\n",
       "      <td>2018</td>\n",
       "      <td>10</td>\n",
       "      <td>1197988</td>\n",
       "      <td>1162774</td>\n",
       "      <td>35214</td>\n",
       "      <td>2.9</td>\n",
       "    </tr>\n",
       "    <tr>\n",
       "      <th>8</th>\n",
       "      <td>394355</td>\n",
       "      <td>2018</td>\n",
       "      <td>11</td>\n",
       "      <td>1201566</td>\n",
       "      <td>1166183</td>\n",
       "      <td>35383</td>\n",
       "      <td>2.9</td>\n",
       "    </tr>\n",
       "    <tr>\n",
       "      <th>9</th>\n",
       "      <td>394355</td>\n",
       "      <td>2018</td>\n",
       "      <td>12</td>\n",
       "      <td>1205099</td>\n",
       "      <td>1169731</td>\n",
       "      <td>35368</td>\n",
       "      <td>2.9</td>\n",
       "    </tr>\n",
       "  </tbody>\n",
       "</table>\n",
       "</div>"
      ],
      "text/plain": [
       "   Region ID  Year  Month  Civilian Labor Force  Employment  Unemployment  \\\n",
       "0     394355  2018      3               1179232     1143501         35731   \n",
       "1     394355  2018      4               1183111     1147281         35830   \n",
       "2     394355  2018      5               1185971     1150176         35795   \n",
       "3     394355  2018      6               1188164     1152543         35621   \n",
       "4     394355  2018      7               1190096     1154811         35285   \n",
       "5     394355  2018      8               1192227     1157195         35032   \n",
       "6     394355  2018      9               1194833     1159797         35036   \n",
       "7     394355  2018     10               1197988     1162774         35214   \n",
       "8     394355  2018     11               1201566     1166183         35383   \n",
       "9     394355  2018     12               1205099     1169731         35368   \n",
       "\n",
       "   Unemployment Rate  \n",
       "0                3.0  \n",
       "1                3.0  \n",
       "2                3.0  \n",
       "3                3.0  \n",
       "4                3.0  \n",
       "5                2.9  \n",
       "6                2.9  \n",
       "7                2.9  \n",
       "8                2.9  \n",
       "9                2.9  "
      ]
     },
     "execution_count": 3,
     "metadata": {},
     "output_type": "execute_result"
    }
   ],
   "source": [
    "# Load in Data\n",
    "file_path = Path(\"..\\Data\\Model_Data\\MSA_Labor_Force_Unemployment_Cleaned.csv\") \n",
    "# Replace this with summary data from SQL Database and drive the connection to \n",
    "housing_data_df = pd.read_csv(file_path)\n",
    "housing_data_df.head(10)\n",
    "# ? Drop any Null Values or Rows or Replace ? Cleaning should be done with SQL or do we want to manipulate here ?\n"
   ]
  },
  {
   "cell_type": "markdown",
   "metadata": {},
   "source": [
    "### Split the Data Into Training and Testing"
   ]
  },
  {
   "cell_type": "code",
   "execution_count": 4,
   "metadata": {},
   "outputs": [
    {
     "data": {
      "text/html": [
       "<div>\n",
       "<style scoped>\n",
       "    .dataframe tbody tr th:only-of-type {\n",
       "        vertical-align: middle;\n",
       "    }\n",
       "\n",
       "    .dataframe tbody tr th {\n",
       "        vertical-align: top;\n",
       "    }\n",
       "\n",
       "    .dataframe thead th {\n",
       "        text-align: right;\n",
       "    }\n",
       "</style>\n",
       "<table border=\"1\" class=\"dataframe\">\n",
       "  <thead>\n",
       "    <tr style=\"text-align: right;\">\n",
       "      <th></th>\n",
       "      <th>Region ID</th>\n",
       "      <th>Year</th>\n",
       "      <th>Month</th>\n",
       "      <th>Civilian Labor Force</th>\n",
       "      <th>Employment</th>\n",
       "      <th>Unemployment</th>\n",
       "    </tr>\n",
       "  </thead>\n",
       "  <tbody>\n",
       "    <tr>\n",
       "      <th>0</th>\n",
       "      <td>394355</td>\n",
       "      <td>2018</td>\n",
       "      <td>3</td>\n",
       "      <td>1179232</td>\n",
       "      <td>1143501</td>\n",
       "      <td>35731</td>\n",
       "    </tr>\n",
       "    <tr>\n",
       "      <th>1</th>\n",
       "      <td>394355</td>\n",
       "      <td>2018</td>\n",
       "      <td>4</td>\n",
       "      <td>1183111</td>\n",
       "      <td>1147281</td>\n",
       "      <td>35830</td>\n",
       "    </tr>\n",
       "    <tr>\n",
       "      <th>2</th>\n",
       "      <td>394355</td>\n",
       "      <td>2018</td>\n",
       "      <td>5</td>\n",
       "      <td>1185971</td>\n",
       "      <td>1150176</td>\n",
       "      <td>35795</td>\n",
       "    </tr>\n",
       "    <tr>\n",
       "      <th>3</th>\n",
       "      <td>394355</td>\n",
       "      <td>2018</td>\n",
       "      <td>6</td>\n",
       "      <td>1188164</td>\n",
       "      <td>1152543</td>\n",
       "      <td>35621</td>\n",
       "    </tr>\n",
       "    <tr>\n",
       "      <th>4</th>\n",
       "      <td>394355</td>\n",
       "      <td>2018</td>\n",
       "      <td>7</td>\n",
       "      <td>1190096</td>\n",
       "      <td>1154811</td>\n",
       "      <td>35285</td>\n",
       "    </tr>\n",
       "    <tr>\n",
       "      <th>5</th>\n",
       "      <td>394355</td>\n",
       "      <td>2018</td>\n",
       "      <td>8</td>\n",
       "      <td>1192227</td>\n",
       "      <td>1157195</td>\n",
       "      <td>35032</td>\n",
       "    </tr>\n",
       "    <tr>\n",
       "      <th>6</th>\n",
       "      <td>394355</td>\n",
       "      <td>2018</td>\n",
       "      <td>9</td>\n",
       "      <td>1194833</td>\n",
       "      <td>1159797</td>\n",
       "      <td>35036</td>\n",
       "    </tr>\n",
       "    <tr>\n",
       "      <th>7</th>\n",
       "      <td>394355</td>\n",
       "      <td>2018</td>\n",
       "      <td>10</td>\n",
       "      <td>1197988</td>\n",
       "      <td>1162774</td>\n",
       "      <td>35214</td>\n",
       "    </tr>\n",
       "    <tr>\n",
       "      <th>8</th>\n",
       "      <td>394355</td>\n",
       "      <td>2018</td>\n",
       "      <td>11</td>\n",
       "      <td>1201566</td>\n",
       "      <td>1166183</td>\n",
       "      <td>35383</td>\n",
       "    </tr>\n",
       "    <tr>\n",
       "      <th>9</th>\n",
       "      <td>394355</td>\n",
       "      <td>2018</td>\n",
       "      <td>12</td>\n",
       "      <td>1205099</td>\n",
       "      <td>1169731</td>\n",
       "      <td>35368</td>\n",
       "    </tr>\n",
       "  </tbody>\n",
       "</table>\n",
       "</div>"
      ],
      "text/plain": [
       "   Region ID  Year  Month  Civilian Labor Force  Employment  Unemployment\n",
       "0     394355  2018      3               1179232     1143501         35731\n",
       "1     394355  2018      4               1183111     1147281         35830\n",
       "2     394355  2018      5               1185971     1150176         35795\n",
       "3     394355  2018      6               1188164     1152543         35621\n",
       "4     394355  2018      7               1190096     1154811         35285\n",
       "5     394355  2018      8               1192227     1157195         35032\n",
       "6     394355  2018      9               1194833     1159797         35036\n",
       "7     394355  2018     10               1197988     1162774         35214\n",
       "8     394355  2018     11               1201566     1166183         35383\n",
       "9     394355  2018     12               1205099     1169731         35368"
      ]
     },
     "execution_count": 4,
     "metadata": {},
     "output_type": "execute_result"
    }
   ],
   "source": [
    "# Create our features\n",
    "y = housing_data_df[\"Unemployment Rate\"]\n",
    "X = housing_data_df.drop(columns=\"Unemployment Rate\") # TBD based on factors to pull in\n",
    "X.head(10)"
   ]
  },
  {
   "cell_type": "code",
   "execution_count": 5,
   "metadata": {},
   "outputs": [
    {
     "name": "stdout",
     "output_type": "stream",
     "text": [
      "[ 5  5  5  5  5  4  4  4  4  4  4  3  3  2  2  2  2  2  2  2  1  1  0  0\n",
      " 16 60 57 50 47 35 32 25 27 26 25 24 22 21 19 17 14 12 11  9  9  9  8  7\n",
      "  6  5  4  4  4  4 13 13 12 12 12 12 12 12 12 12 11 11 11 11 11 10 10 10\n",
      " 10 10  9  9  8  8 18 66 61 55 51 38 37 31 29 28 28 28 27 26 24 23 21 19\n",
      " 17 16 15 15 13 12 11 10 10  9  9  9 17 16 15 15 15 15 16 16 17 18 18 18\n",
      " 17 16 14 13 12 11 11 11 10 10 11 11 33 69 67 63 61 56 54 48 49 46 43 41\n",
      " 39 38 37 41 36 34 30 26 25 25 23 21 20 19 19 19 19 20 21 20 19 19 18 17\n",
      " 17 17 17 16 15 14 13 13 12 12 13 13 13 13 13 12 12 11 33 65 64 59 58 53\n",
      " 52 49 47 46 45 44 42 40 38 36 35 34 32 31 30 31 29 28 25 23 22 21 20 20\n",
      "  2  2  2  2  3  3  3  3  3  2  2  1  1  1  0  0  1  1  2  2  3  3  4  5\n",
      " 68 62 56 54 41 35 30 26 23 20 19 17 16 14 12 10  8  6  5  5  5  4  3  2\n",
      "  2  2  2  2  2]\n"
     ]
    }
   ],
   "source": [
    "# Need to make target value from continuous to integer\n",
    "from sklearn import preprocessing\n",
    "from sklearn import utils\n",
    "\n",
    "#convert y values to categorical values\n",
    "lab = preprocessing.LabelEncoder()\n",
    "y_transformed = lab.fit_transform(y)\n",
    "print(y_transformed)"
   ]
  },
  {
   "cell_type": "code",
   "execution_count": 6,
   "metadata": {},
   "outputs": [],
   "source": [
    "# Import sklearn model\n",
    "from sklearn.model_selection import train_test_split\n",
    "X_train, X_test, y_train, y_test = train_test_split(X,y_transformed,random_state=42)\n",
    "# Create the scaler instance\n",
    "from sklearn.preprocessing import StandardScaler\n",
    "scaler = StandardScaler().fit(X_train)\n",
    "#Fitting the scaler\n",
    "X_train_scaled = scaler.transform(X_train)\n",
    "X_test_scaled = scaler.transform(X_test)"
   ]
  },
  {
   "cell_type": "markdown",
   "metadata": {},
   "source": [
    "## Determine the Model Type\n",
    "Will need to evaluate the type based on accuracy and balance reports"
   ]
  },
  {
   "cell_type": "markdown",
   "metadata": {},
   "source": [
    "Naive Random Oversampling"
   ]
  },
  {
   "cell_type": "code",
   "execution_count": 7,
   "metadata": {},
   "outputs": [
    {
     "data": {
      "text/plain": [
       "Counter({13: 14,\n",
       "         10: 14,\n",
       "         2: 14,\n",
       "         12: 14,\n",
       "         1: 14,\n",
       "         15: 14,\n",
       "         4: 14,\n",
       "         29: 14,\n",
       "         16: 14,\n",
       "         47: 14,\n",
       "         19: 14,\n",
       "         25: 14,\n",
       "         37: 14,\n",
       "         54: 14,\n",
       "         24: 14,\n",
       "         46: 14,\n",
       "         11: 14,\n",
       "         18: 14,\n",
       "         3: 14,\n",
       "         36: 14,\n",
       "         5: 14,\n",
       "         17: 14,\n",
       "         39: 14,\n",
       "         8: 14,\n",
       "         48: 14,\n",
       "         43: 14,\n",
       "         49: 14,\n",
       "         9: 14,\n",
       "         35: 14,\n",
       "         31: 14,\n",
       "         23: 14,\n",
       "         41: 14,\n",
       "         21: 14,\n",
       "         33: 14,\n",
       "         32: 14,\n",
       "         61: 14,\n",
       "         57: 14,\n",
       "         38: 14,\n",
       "         45: 14,\n",
       "         22: 14,\n",
       "         50: 14,\n",
       "         14: 14,\n",
       "         27: 14,\n",
       "         40: 14,\n",
       "         63: 14,\n",
       "         20: 14,\n",
       "         0: 14,\n",
       "         30: 14,\n",
       "         55: 14,\n",
       "         7: 14,\n",
       "         52: 14,\n",
       "         69: 14,\n",
       "         42: 14,\n",
       "         26: 14,\n",
       "         28: 14,\n",
       "         68: 14,\n",
       "         67: 14,\n",
       "         6: 14,\n",
       "         59: 14,\n",
       "         34: 14,\n",
       "         65: 14,\n",
       "         53: 14,\n",
       "         64: 14})"
      ]
     },
     "execution_count": 7,
     "metadata": {},
     "output_type": "execute_result"
    }
   ],
   "source": [
    "# Resample the training data with the RandomOversampler\n",
    "# Implement Random Oversampler\n",
    "from imblearn.over_sampling import RandomOverSampler\n",
    "ros = RandomOverSampler(random_state=42)\n",
    "X_resampled, y_resampled = ros.fit_resample(X_train_scaled, y_train)\n",
    "Counter(y_resampled)"
   ]
  },
  {
   "cell_type": "code",
   "execution_count": 8,
   "metadata": {},
   "outputs": [
    {
     "data": {
      "text/plain": [
       "LogisticRegression(max_iter=200, random_state=42)"
      ]
     },
     "execution_count": 8,
     "metadata": {},
     "output_type": "execute_result"
    }
   ],
   "source": [
    "# Train the Logistic Regression model using the resampled data\n",
    "from sklearn.linear_model import LogisticRegression\n",
    "classifier = LogisticRegression(solver='lbfgs', max_iter=200, random_state=42)\n",
    "# Fit the model\n",
    "classifier.fit(X_resampled,y_resampled)"
   ]
  },
  {
   "cell_type": "code",
   "execution_count": 9,
   "metadata": {},
   "outputs": [
    {
     "data": {
      "text/plain": [
       "0.08267195767195767"
      ]
     },
     "execution_count": 9,
     "metadata": {},
     "output_type": "execute_result"
    }
   ],
   "source": [
    "# Calculated the balanced accuracy score\n",
    "y_pred = classifier.predict(X_test_scaled)\n",
    "\n",
    "from sklearn.metrics import balanced_accuracy_score\n",
    "balanced_accuracy_score(y_test, y_pred)"
   ]
  },
  {
   "cell_type": "code",
   "execution_count": 10,
   "metadata": {},
   "outputs": [
    {
     "data": {
      "text/plain": [
       "array([[0, 0, 0, ..., 0, 0, 0],\n",
       "       [1, 0, 1, ..., 0, 0, 0],\n",
       "       [0, 0, 2, ..., 0, 0, 0],\n",
       "       ...,\n",
       "       [0, 0, 0, ..., 0, 0, 0],\n",
       "       [0, 0, 0, ..., 0, 0, 0],\n",
       "       [0, 0, 0, ..., 0, 0, 0]], dtype=int64)"
      ]
     },
     "execution_count": 10,
     "metadata": {},
     "output_type": "execute_result"
    }
   ],
   "source": [
    "# Display the confusion matrix\n",
    "from sklearn.metrics import confusion_matrix\n",
    "confusion_matrix(y_test,y_pred)"
   ]
  },
  {
   "cell_type": "code",
   "execution_count": 11,
   "metadata": {},
   "outputs": [
    {
     "name": "stdout",
     "output_type": "stream",
     "text": [
      "                   pre       rec       spe        f1       geo       iba       sup\n",
      "\n",
      "          0       0.00      0.00      0.97      0.00      0.00      0.00         1\n",
      "          2       0.00      0.00      1.00      0.00      0.00      0.00         7\n",
      "          3       0.67      1.00      0.98      0.80      0.99      0.99         2\n",
      "          4       0.00      0.00      1.00      0.00      0.00      0.00         4\n",
      "          5       0.00      0.00      0.89      0.00      0.00      0.00         2\n",
      "          6       0.00      0.00      0.94      0.00      0.00      0.00         0\n",
      "          7       0.00      0.00      0.99      0.00      0.00      0.00         0\n",
      "          8       0.50      0.50      0.98      0.50      0.70      0.47         2\n",
      "          9       0.00      0.00      0.98      0.00      0.00      0.00         2\n",
      "         10       0.00      0.00      1.00      0.00      0.00      0.00         1\n",
      "         11       0.25      0.14      0.95      0.18      0.37      0.12         7\n",
      "         12       0.00      0.00      1.00      0.00      0.00      0.00         2\n",
      "         13       0.00      0.00      0.98      0.00      0.00      0.00         3\n",
      "         14       0.00      0.00      1.00      0.00      0.00      0.00         1\n",
      "         15       0.20      1.00      0.94      0.33      0.97      0.95         1\n",
      "         16       0.00      0.00      1.00      0.00      0.00      0.00         3\n",
      "         17       0.20      0.33      0.94      0.25      0.56      0.29         3\n",
      "         18       0.00      0.00      0.98      0.00      0.00      0.00         2\n",
      "         19       0.00      0.00      1.00      0.00      0.00      0.00         3\n",
      "         21       0.00      0.00      1.00      0.00      0.00      0.00         1\n",
      "         23       0.00      0.00      0.97      0.00      0.00      0.00         2\n",
      "         24       0.00      0.00      0.99      0.00      0.00      0.00         0\n",
      "         26       0.00      0.00      1.00      0.00      0.00      0.00         1\n",
      "         27       0.00      0.00      0.91      0.00      0.00      0.00         1\n",
      "         28       0.00      0.00      0.99      0.00      0.00      0.00         1\n",
      "         30       0.00      0.00      0.97      0.00      0.00      0.00         1\n",
      "         32       0.00      0.00      0.99      0.00      0.00      0.00         1\n",
      "         33       0.00      0.00      0.94      0.00      0.00      0.00         1\n",
      "         34       0.00      0.00      0.99      0.00      0.00      0.00         0\n",
      "         35       0.00      0.00      1.00      0.00      0.00      0.00         1\n",
      "         39       0.00      0.00      0.99      0.00      0.00      0.00         0\n",
      "         41       0.00      0.00      1.00      0.00      0.00      0.00         2\n",
      "         42       0.00      0.00      0.99      0.00      0.00      0.00         0\n",
      "         43       0.00      0.00      0.99      0.00      0.00      0.00         0\n",
      "         44       0.00      0.00      1.00      0.00      0.00      0.00         1\n",
      "         45       0.00      0.00      0.99      0.00      0.00      0.00         0\n",
      "         46       0.00      0.00      1.00      0.00      0.00      0.00         1\n",
      "         49       0.00      0.00      0.99      0.00      0.00      0.00         1\n",
      "         51       0.00      0.00      1.00      0.00      0.00      0.00         1\n",
      "         52       0.00      0.00      0.99      0.00      0.00      0.00         0\n",
      "         55       0.00      0.00      0.99      0.00      0.00      0.00         0\n",
      "         56       0.00      0.00      1.00      0.00      0.00      0.00         2\n",
      "         57       0.00      0.00      0.96      0.00      0.00      0.00         0\n",
      "         58       0.00      0.00      1.00      0.00      0.00      0.00         1\n",
      "         59       0.00      0.00      0.99      0.00      0.00      0.00         0\n",
      "         60       0.00      0.00      1.00      0.00      0.00      0.00         1\n",
      "         62       0.00      0.00      1.00      0.00      0.00      0.00         1\n",
      "         63       0.00      0.00      0.99      0.00      0.00      0.00         0\n",
      "         66       0.00      0.00      1.00      0.00      0.00      0.00         1\n",
      "         68       0.00      0.00      0.97      0.00      0.00      0.00         0\n",
      "\n",
      "avg / total       0.07      0.09      0.98      0.07      0.13      0.08        68\n",
      "\n"
     ]
    }
   ],
   "source": [
    "# Print the imbalanced classification report\n",
    "from imblearn.metrics import classification_report_imbalanced\n",
    "print(classification_report_imbalanced(y_test,y_pred))"
   ]
  },
  {
   "cell_type": "code",
   "execution_count": null,
   "metadata": {},
   "outputs": [],
   "source": []
  },
  {
   "cell_type": "markdown",
   "metadata": {},
   "source": [
    "Model 2: SMOTE Oversampling"
   ]
  },
  {
   "cell_type": "markdown",
   "metadata": {},
   "source": []
  },
  {
   "cell_type": "code",
   "execution_count": null,
   "metadata": {},
   "outputs": [],
   "source": [
    "# Resample the training data with SMOTE\n",
    "from imblearn.over_sampling import SMOTE\n",
    "X_resampled, y_resampled = SMOTE(random_state=42, sampling_strategy='auto').fit_resample(X_train_scaled, y_train)\n",
    "Counter(y_resampled)"
   ]
  },
  {
   "cell_type": "code",
   "execution_count": null,
   "metadata": {},
   "outputs": [],
   "source": [
    "# Train the Logistic Regression model using the resampled data\n",
    "model = LogisticRegression(solver='lbfgs', random_state=1)\n",
    "model.fit(X_resampled, y_resampled)"
   ]
  },
  {
   "cell_type": "code",
   "execution_count": null,
   "metadata": {},
   "outputs": [],
   "source": [
    "# Calculated the balanced accuracy score\n",
    "y_pred = model.predict(X_test_scaled)\n",
    "balanced_accuracy_score(y_test,y_pred)"
   ]
  },
  {
   "cell_type": "code",
   "execution_count": null,
   "metadata": {},
   "outputs": [],
   "source": [
    "# Display the confusion matrix\n",
    "confusion_matrix(y_test,y_pred)"
   ]
  },
  {
   "cell_type": "code",
   "execution_count": null,
   "metadata": {},
   "outputs": [],
   "source": [
    "\n",
    "# Print the imbalanced classification report\n",
    "print(classification_report_imbalanced(y_test,y_pred))"
   ]
  },
  {
   "cell_type": "markdown",
   "metadata": {},
   "source": [
    "### Additional Tests will be summarized to find the highest accuracy"
   ]
  }
 ],
 "metadata": {
  "kernelspec": {
   "display_name": "Python 3.7.13 ('mlenv')",
   "language": "python",
   "name": "python3"
  },
  "language_info": {
   "codemirror_mode": {
    "name": "ipython",
    "version": 3
   },
   "file_extension": ".py",
   "mimetype": "text/x-python",
   "name": "python",
   "nbconvert_exporter": "python",
   "pygments_lexer": "ipython3",
   "version": "3.7.13"
  },
  "orig_nbformat": 4,
  "vscode": {
   "interpreter": {
    "hash": "b57c4a5765365eaa53b190cd8ab8cc2d5608e260ab9fd7eb3ec9d34dac90b4ac"
   }
  }
 },
 "nbformat": 4,
 "nbformat_minor": 2
}
